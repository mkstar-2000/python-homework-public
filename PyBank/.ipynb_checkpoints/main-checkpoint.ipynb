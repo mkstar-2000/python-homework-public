{
 "cells": [
  {
   "cell_type": "code",
   "execution_count": 1,
   "id": "029193ec-a744-41d9-a4dc-46e5179f8cc8",
   "metadata": {},
   "outputs": [],
   "source": [
    "# Importing functions \n",
    "from pathlib import Path\n",
    "import csv\n",
    "\n",
    "#define functions\n",
    "\n",
    "# Greatest profit returns list on the current greateat Profit, and the month that it occurred\n",
    "def get_greatestProfit(evalMonthYear,evalProfit,currentProfit,currentProfitMonth):\n",
    "    if float(evalProfit) > float(currentProfit) and float(evalProfit) > 0:\n",
    "        greatestProfit = evalProfit\n",
    "        greatestProfitMonth=evalMonthYear\n",
    "    else:    \n",
    "        greatestProfit = currentProfit\n",
    "        greatestProfitMonth=currentProfitMonth    \n",
    "    return ([greatestProfit,greatestProfitMonth])\n",
    "\n",
    "# Greatest Loss returns list on the current greateat Loss, and the month that it occurred\n",
    "def get_greatestLoss(evalMonthYear,evalLoss,currentLoss,currentLossMonth):\n",
    "    if float(evalLoss) < float(currentLoss) and float(evalLoss) < 0 :\n",
    "        greatestLoss = evalLoss\n",
    "        greatestLossMonth=evalMonthYear\n",
    "    else:\n",
    "        greatestLoss = currentLoss\n",
    "        greatestLossMonth=currentLossMonth\n",
    "    return ([greatestLoss, greatestLossMonth])\n",
    "\n",
    "# Writes Financial Summary to output file\n",
    "def printFinancialSummaryFile():\n",
    "    fileout = Path('.\\Output/budget_summary.txt')\n",
    "    formattedProfit=\"{:.2f}\".format(greatestProfit,2)\n",
    "    formattedLoss=\"{:.2f}\".format(greatestLoss,2)\n",
    "    tempvar = (\"Financial Analysis \\n\" \n",
    "              \"----------------------------\\n\" \n",
    "              \"Total Months: \" + str(records) + \" \\n\" \n",
    "              \"Total: $ \" + str(sum(listPnl)) +  \"\\n\" \n",
    "              \"Average  Change: $ \" + str(round(sum(monthlyChangePnl)/(records-1),2)) + \"\\n\" \n",
    "              \"Greatest Increase in Profits: \" + greatestProfitMonth +  \" of $ \"  + formattedProfit + \"\\n\" \n",
    "              \"Greatest Decrease in Profits: \" + greatestLossMonth +  \" of $ \"  + formattedLoss + \"\\n\")\n",
    "    \n",
    "    with open (fileout , 'w') as dataout:\n",
    "        dataout.write(tempvar)\n",
    "    return\n",
    "        \n",
    "# Writes Financial Summary to terminal\n",
    "def printFinancialSummaryTerminal():    \n",
    "    print (\"Financial Analysis\")\n",
    "    print ('----------------------------')\n",
    "    print (f\"Total Months: {records}\")\n",
    "    print (f\"Total: $ {sum(listPnl)}\")\n",
    "    print (f\"Average  Change: $ {(round(sum(monthlyChangePnl)/(records-1),2))}\")\n",
    "    print (f\"Greatest Increase in Profits: {greatestProfitMonth} of $ {greatestProfit:.2f}\")\n",
    "    print (f\"Greatest Decrease in Profits: {greatestLossMonth} of $ {greatestLoss:.2f}\")\n",
    "    return\n",
    "       \n",
    "\n",
    "# Initialize global variables\n",
    "file = Path('.\\Resources/budget_data.csv')\n",
    "fileout = Path('.\\Output/budget_summary.txt')\n",
    "line = []\n",
    "listPnl = []\n",
    "monthlyChangePnl = []\n",
    "records=0\n",
    "greatestProfit=0\n",
    "greatestLoss=0\n",
    "greatestProfitMonth=\"N/A\"\n",
    "greatestLossMonth=\"N/A\"\n",
    "cProfit = []\n",
    "cLoss = []"
   ]
  },
  {
   "cell_type": "code",
   "execution_count": 2,
   "id": "9f36f694-1663-4cd0-bb04-6bf2a7e859ed",
   "metadata": {
    "tags": []
   },
   "outputs": [
    {
     "name": "stdout",
     "output_type": "stream",
     "text": [
      "Financial Analysis\n",
      "----------------------------\n",
      "Total Months: 86\n",
      "Total: $ 38382578.0\n",
      "Average  Change: $ -2315.12\n",
      "Greatest Increase in Profits: Feb-2012 of $ 1926159.00\n",
      "Greatest Decrease in Profits: Sep-2013 of $ -2196167.00\n"
     ]
    }
   ],
   "source": [
    "# Process data file of Profit and Loss Values\n",
    "with open (file , 'r') as data:\n",
    "    csvRead = csv.reader(data)\n",
    "    # Remove Header record\n",
    "    header = next(data)\n",
    "\n",
    "    for line in csvRead:         \n",
    "        if records == 0:\n",
    "            listPnl.append(float(line[1]))\n",
    "        else:\n",
    "            monthlyChangePnl.append(float(line[1])-float(listPnl[-1]))\n",
    "            listPnl.append(float(line[1]))\n",
    "            cProfit=get_greatestProfit(line[0],monthlyChangePnl[-1],greatestProfit,greatestProfitMonth)\n",
    "            cLoss=get_greatestLoss(line[0],monthlyChangePnl[-1],greatestLoss,greatestLossMonth)            \n",
    "            greatestProfit=cProfit[0]\n",
    "            greatestProfitMonth=cProfit[1]\n",
    "            greatestLoss=cLoss[0]\n",
    "            greatestLossMonth=cLoss[1]\n",
    "                \n",
    "        records += 1\n",
    "            \n",
    "printFinancialSummaryFile()\n",
    "printFinancialSummaryTerminal()                  "
   ]
  },
  {
   "cell_type": "code",
   "execution_count": null,
   "id": "434982a5-b898-4a17-b16c-b0c16aa8f326",
   "metadata": {},
   "outputs": [],
   "source": []
  }
 ],
 "metadata": {
  "kernelspec": {
   "display_name": "Python 3 (ipykernel)",
   "language": "python",
   "name": "python3"
  },
  "language_info": {
   "codemirror_mode": {
    "name": "ipython",
    "version": 3
   },
   "file_extension": ".py",
   "mimetype": "text/x-python",
   "name": "python",
   "nbconvert_exporter": "python",
   "pygments_lexer": "ipython3",
   "version": "3.9.7"
  }
 },
 "nbformat": 4,
 "nbformat_minor": 5
}
