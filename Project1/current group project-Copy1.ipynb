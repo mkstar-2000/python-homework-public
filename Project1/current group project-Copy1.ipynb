{
 "cells": [
  {
   "cell_type": "markdown",
   "id": "442e7095",
   "metadata": {},
   "source": [
    "# Travel Planner Based on Currency Conversion Risk"
   ]
  },
  {
   "cell_type": "markdown",
   "id": "ca91f4a1",
   "metadata": {},
   "source": [
    "**Project Goal:** Create a travel planning tool that will allow the user to select a set of countries they would like to travel to and a travel timeframe (3,6,12 months). The tool will analyze historical Forex data and predict the country that will have the most favorable currency within the given travel timeframe.\n",
    "\n",
    "**The tool will:** Check Forex volatility as barometer for travel decisions Use historical forex data (up to 2 years) 3 - 6 - 12 months predictive outlook using Monte Carlo and other algorithms Produce graphs, risk graphs, value graphs, Variables - currency / country, traveling times (3-6-12 months)\n"
   ]
  },
  {
   "cell_type": "markdown",
   "id": "baf18ca7",
   "metadata": {},
   "source": [
    "### Import Library"
   ]
  },
  {
   "cell_type": "code",
   "execution_count": null,
   "id": "0f654bb5",
   "metadata": {},
   "outputs": [],
   "source": [
    "import os\n",
    "import requests\n",
    "import pandas as pd\n",
    "import pandas_datareader as pdr\n",
    "\n",
    "from pandas_datareader import data as wb\n",
    "import seaborn as sns\n",
    "\n",
    "from dotenv import load_dotenv\n",
    "import numpy as np\n",
    "%matplotlib inline\n",
    "import json\n",
    "from forex_python.converter import CurrencyRates\n",
    "import datetime as dt\n",
    "from countryinfo import CountryInfo\n",
    "\n",
    "import plotly.express as px\n",
    "from pathlib import Path\n",
    "#Interactive Plot \n",
    "import plotly.offline as pyo\n",
    "#Candlestick Chart\n",
    "import plotly.graph_objects as go\n",
    "from plotly.subplots import make_subplots\n",
    "\n",
    "pyo.init_notebook_mode(connected=True)\n",
    "pd.options.plotting.backend = 'plotly'\n",
    "\n",
    "from MCForecastTools import MCSimulation\n",
    "\n",
    "def MC_Simulation(number_of_months):\n",
    "    forex_montecarlo = MCSimulation(\n",
    "    portfolio_data = ticker_data,\n",
    "    num_simulation = 50,\n",
    "    num_trading_days = 30 * number_of_months\n",
    ") \n",
    "# Run Monte Carlo simulations to forecast one year daily returns\n",
    "\n",
    "    "
   ]
  },
  {
   "cell_type": "code",
   "execution_count": null,
   "id": "d03f0302",
   "metadata": {},
   "outputs": [],
   "source": [
    "# Load .env enviroment variables\n",
    "load_dotenv()\n",
    "\n",
    "# Set up API credentials\n",
    "\n",
    "# Set Alpha Vantage API key \n",
    "alpha_vantage_api_key = os.getenv(\"ALPHA_VANTAGE_API\")\n",
    "\n",
    "# Verify that Alpha Vantage key was correctly loaded\n",
    "print(f\"Alpha Vantage Key type: {type(alpha_vantage_api_key)}\")\n",
    "\n",
    "\n",
    "# Set the Mapbox API key\n",
    "map_box_api = os.getenv(\"mapbox\")\n",
    "px.set_mapbox_access_token(map_box_api)\n",
    "# Verify that Mapbox API key was correctly loaded\n",
    "print(f\"Mapbox Key type: {type(map_box_api)}\")"
   ]
  },
  {
   "cell_type": "markdown",
   "id": "8f6d75fb",
   "metadata": {},
   "source": [
    "### Country 1"
   ]
  },
  {
   "cell_type": "code",
   "execution_count": null,
   "id": "e34bf539",
   "metadata": {},
   "outputs": [],
   "source": [
    "name = (input(\"What Country are you interested in traveling to? \"))\n",
    "country_name = CountryInfo(name).name()\n",
    "country_border= CountryInfo(name).borders()\n",
    "country_capital= CountryInfo(name).capital()\n",
    "country_currency = CountryInfo(name).currencies()\n",
    "country_timezone = CountryInfo(name).timezones()\n",
    "country_wiki = CountryInfo(name).wiki()\n",
    "country_info = print(f\"Country name: {country_name}\", '\\n'\n",
    "                      f\"Country Capital: {country_capital}\", '\\n'\n",
    "                      f\"Country Border: {country_border}\", '\\n' \n",
    "                      f\"Country Currency: {country_currency}\", '\\n' \n",
    "                      f\"Country Timezone: {country_timezone}\", '\\n'\n",
    "                      f\"Country Wiki: {country_wiki}\")\n",
    "\n",
    "country_info\n",
    "\n",
    "\n"
   ]
  },
  {
   "cell_type": "markdown",
   "id": "f7cf8c01",
   "metadata": {},
   "source": [
    "### Country 2"
   ]
  },
  {
   "cell_type": "code",
   "execution_count": null,
   "id": "4834af9c",
   "metadata": {},
   "outputs": [],
   "source": [
    "name_2 = (input(\"What Country are you interested in traveling to? \"))\n",
    "country_name_2 = CountryInfo(name_2).name()\n",
    "country_border_2= CountryInfo(name_2).borders()\n",
    "country_capital_2= CountryInfo(name_2).capital()\n",
    "country_currency_2 = CountryInfo(name_2).currencies()\n",
    "country_timezone_2 = CountryInfo(name_2).timezones()\n",
    "country_wiki_2 = CountryInfo(name_2).wiki()\n",
    "country_info_2 = print(f\"Country name: {country_name_2}\", '\\n'\n",
    "                      f\"Country Capital: {country_capital_2}\", '\\n'\n",
    "                      f\"Country Border: {country_border_2}\", '\\n' \n",
    "                      f\"Country Currency: {country_currency_2}\", '\\n' \n",
    "                      f\"Country Timezone: {country_timezone_2}\", '\\n'\n",
    "                      f\"Country Wiki: {country_wiki_2}\")\n",
    "\n",
    "country_info_2"
   ]
  },
  {
   "cell_type": "markdown",
   "id": "3ce21259",
   "metadata": {},
   "source": [
    "### Country 3"
   ]
  },
  {
   "cell_type": "code",
   "execution_count": null,
   "id": "5f9a8a0e",
   "metadata": {},
   "outputs": [],
   "source": [
    "name_3 = (input(\"What Country are you interested in traveling to? \"))\n",
    "country_name_3 = CountryInfo(name_3).name()\n",
    "country_border_3= CountryInfo(name_3).borders()\n",
    "country_capital_3= CountryInfo(name_3).capital()\n",
    "country_currency_3 = CountryInfo(name_3).currencies()\n",
    "country_timezone_3 = CountryInfo(name_3).timezones()\n",
    "country_wiki_3 = CountryInfo(name_3).wiki()\n",
    "country_info_3 = print(f\"Country name: {country_name_3}\", '\\n'\n",
    "                      f\"Country Capital: {country_capital_3}\", '\\n'\n",
    "                      f\"Country Border: {country_border_3}\", '\\n' \n",
    "                      f\"Country Currency: {country_currency_3}\", '\\n' \n",
    "                      f\"Country Timezone: {country_timezone_3}\", '\\n'\n",
    "                      f\"Country Wiki: {country_wiki_3}\")\n",
    "\n",
    "country_info_3"
   ]
  },
  {
   "cell_type": "code",
   "execution_count": null,
   "id": "fff75d24",
   "metadata": {},
   "outputs": [],
   "source": [
    "#country Currency 1\n",
    "pair = country_currency[0].strip(\"''\")\n",
    "forex_pair = pair + \"USD\""
   ]
  },
  {
   "cell_type": "code",
   "execution_count": null,
   "id": "bb7c1616",
   "metadata": {},
   "outputs": [],
   "source": [
    "#Country Currency 2\n",
    "pair_2 = country_currency_2[0].strip(\"''\")\n",
    "forex_pair_2 = pair_2 + \"USD\""
   ]
  },
  {
   "cell_type": "code",
   "execution_count": null,
   "id": "7243aae1",
   "metadata": {},
   "outputs": [],
   "source": [
    "#Country Currency 3\n",
    "pair_3 = country_currency_3[0].strip(\"''\")\n",
    "forex_pair_3 = pair_3 + \"USD\""
   ]
  },
  {
   "cell_type": "code",
   "execution_count": null,
   "id": "b9bff318",
   "metadata": {},
   "outputs": [],
   "source": [
    "# forex_pair = input(\"Enter the forex pair: \")\n",
    "\n",
    "# Currency 1\n",
    "time_series = pdr.av.time_series.AVTimeSeriesReader(forex_pair, api_key='alpha_vantage_api_key')\n",
    "forex = time_series.read()\n",
    "forex.index = pd.to_datetime(forex.index, format='%Y-%m-%d')\n",
    "Forex = forex"
   ]
  },
  {
   "cell_type": "code",
   "execution_count": null,
   "id": "179a67fe",
   "metadata": {},
   "outputs": [],
   "source": [
    "# Currency 2\n",
    "time_series_2 = pdr.av.time_series.AVTimeSeriesReader(forex_pair_2, api_key='alpha_vantage_api_key')\n",
    "forex_2 = time_series_2.read()\n",
    "forex_2.index = pd.to_datetime(forex_2.index, format='%Y-%m-%d')\n",
    "Forex_2 = forex_2\n",
    "forex_2"
   ]
  },
  {
   "cell_type": "code",
   "execution_count": null,
   "id": "ea34005b",
   "metadata": {},
   "outputs": [],
   "source": [
    "# Currency 3\n",
    "time_series_3 = pdr.av.time_series.AVTimeSeriesReader(forex_pair_3, api_key='alpha_vantage_api_key')\n",
    "forex_3 = time_series_3.read()\n",
    "forex_3.index = pd.to_datetime(forex_3.index, format='%Y-%m-%d')\n",
    "Forex_3 = forex_3\n",
    "forex_3"
   ]
  },
  {
   "cell_type": "code",
   "execution_count": null,
   "id": "a4440e88",
   "metadata": {},
   "outputs": [],
   "source": [
    "forex_close = Forex.drop(columns=['volume', 'open', 'high', 'low'])"
   ]
  },
  {
   "cell_type": "code",
   "execution_count": null,
   "id": "c6c335c5",
   "metadata": {},
   "outputs": [],
   "source": [
    "forex_2_close = Forex_2.drop(columns=['volume', 'open', 'high', 'low'])"
   ]
  },
  {
   "cell_type": "code",
   "execution_count": null,
   "id": "cf5c8b86",
   "metadata": {},
   "outputs": [],
   "source": [
    "forex_3_close = Forex_3.drop(columns=['volume', 'open', 'high', 'low'])"
   ]
  },
  {
   "cell_type": "code",
   "execution_count": null,
   "id": "1981b59b",
   "metadata": {},
   "outputs": [],
   "source": [
    "joined_forex = pd.concat([forex_close, forex_2_close, forex_3_close], axis=\"columns\", join=\"inner\", keys=[f'{forex_pair}',f'{forex_pair_2}',f'{forex_pair_3}'])\n",
    "joined_forex"
   ]
  },
  {
   "cell_type": "code",
   "execution_count": null,
   "id": "4d238d5d",
   "metadata": {},
   "outputs": [],
   "source": [
    "# Re name columns \n",
    "\n",
    "joined_forex_renamed = joined_forex.rename(columns={\"close\": f\"{forex_pair}\", \"close\": f\"{forex_pair_2}\", \"close\": f\"{forex_pair_3}\"})\n",
    "joined_forex_renamed"
   ]
  },
  {
   "cell_type": "code",
   "execution_count": null,
   "id": "5656399c",
   "metadata": {},
   "outputs": [],
   "source": [
    "# plotting the opening and closing value \n",
    "forex[['close']].plot()\n",
    "\n"
   ]
  },
  {
   "cell_type": "code",
   "execution_count": null,
   "id": "35b849b0",
   "metadata": {},
   "outputs": [],
   "source": [
    "# plotting the opening and closing value of country currency 2\n",
    "forex_2[['close']].plot()\n"
   ]
  },
  {
   "cell_type": "code",
   "execution_count": null,
   "id": "6f4c2fbd",
   "metadata": {},
   "outputs": [],
   "source": [
    "# plotting the opening and closing value of country currency 3\n",
    "forex_3[['close']].plot()\n"
   ]
  },
  {
   "cell_type": "code",
   "execution_count": null,
   "id": "55ce2327",
   "metadata": {},
   "outputs": [],
   "source": [
    "forex_stats = forex.describe()\n",
    "forex_stats"
   ]
  },
  {
   "cell_type": "code",
   "execution_count": null,
   "id": "d49b2fe8",
   "metadata": {},
   "outputs": [],
   "source": [
    "forex_stats_2 = forex_2.describe()\n",
    "forex_stats_2"
   ]
  },
  {
   "cell_type": "code",
   "execution_count": null,
   "id": "8430ccc6",
   "metadata": {},
   "outputs": [],
   "source": [
    "forex_stats_3 = forex_3.describe()\n",
    "forex_stats_3"
   ]
  },
  {
   "cell_type": "code",
   "execution_count": null,
   "id": "9e562c90",
   "metadata": {},
   "outputs": [],
   "source": [
    "# Set moving Average and STD\n",
    "forex['MA20'] = forex['close'].rolling(window=20, min_periods=0).mean()\n",
    "forex['std'] = forex['close'].rolling(window=20, min_periods=0).std(ddof = 0)\n",
    "\n",
    "# set fig\n",
    "fig = make_subplots(rows=2, cols=1, shared_xaxes=True, \n",
    "               vertical_spacing=0.10, subplot_titles=(forex_pair, 'Volume'), \n",
    "               row_width=[0.2, 0.7])\n",
    "\n",
    "\n",
    "\n",
    "# Volume\n",
    "fig.add_trace(go.Bar(x=forex.index, y=forex['volume'], marker_color='lime', showlegend=False), row=2, col=1)\n",
    "\n",
    "# 20 period moving average\n",
    "fig.add_trace(go.Scatter(x=forex.index, y=forex[\"MA20\"], marker_color='tomato',name=\"MA20\"), row=1, col=1)\n",
    "\n",
    "\n",
    "\n",
    "# Candlestick chart\n",
    "fig.add_trace(go.Candlestick(x=forex.index, open=forex[\"open\"], high=forex[\"high\"],\n",
    "                low=forex[\"low\"], close=forex[\"close\"], name=\"OHLC\"), \n",
    "                row=1, col=1)\n",
    "\n",
    "\n",
    "# Create a Bollinger Band\n",
    "\n",
    "# Upper Bound\n",
    "fig.add_trace(go.Scatter(x=forex.index, \n",
    "                         y=forex[\"MA20\"] + (forex['std'] * 2),\n",
    "                         line_color = 'gray',\n",
    "                         line = {'dash': 'dash'},\n",
    "                         name = 'upper band',\n",
    "                         opacity = 0.5),\n",
    "              row = 1, col = 1)\n",
    "\n",
    "# Lower Bound fill in between with parameter 'fill': 'tonexty'\n",
    "fig.add_trace(go.Scatter(x=forex.index, \n",
    "                         y=forex[\"MA20\"] - (forex['std'] * 2),\n",
    "                         line_color = 'gray',\n",
    "                         line = {'dash': 'dash'},\n",
    "                         fill = 'tonexty',\n",
    "                         name = 'lower band',\n",
    "                         opacity = 0.01),\n",
    "              row = 1, col = 1)\n",
    "\n",
    "\n",
    "fig.update_layout(\n",
    "#    title= f'{forex_pair} Historical price chart',\n",
    "    xaxis_tickfont_size=12,\n",
    "    yaxis=dict(\n",
    "        title='Price ($/share)',\n",
    "        titlefont_size=14,\n",
    "        tickfont_size=12,\n",
    "    ),\n",
    "    autosize=True,\n",
    "    width=900,\n",
    "    height=900,\n",
    "    margin=dict(l=50, r=50, b=100, t=100, pad=4),\n",
    "    paper_bgcolor='gainsboro'\n",
    "    \n",
    ")\n",
    "# Remove range slider; (short time frame)\n",
    "fig.update(layout_xaxis_rangeslider_visible=False)\n",
    "\n",
    "fig.show()"
   ]
  },
  {
   "cell_type": "code",
   "execution_count": null,
   "id": "93f757c9",
   "metadata": {},
   "outputs": [],
   "source": [
    "# Country Currency 2\n",
    "\n",
    "# Set moving Average and STD\n",
    "forex_2['MA20'] = forex_2['close'].rolling(window=20, min_periods=0).mean()\n",
    "forex_2['std'] = forex_2['close'].rolling(window=20, min_periods=0).std(ddof = 0)\n",
    "\n",
    "# set fig\n",
    "fig = make_subplots(rows=2, cols=1, shared_xaxes=True, \n",
    "               vertical_spacing=0.10, subplot_titles=(forex_pair_2, 'Volume'), \n",
    "               row_width=[0.2, 0.7])\n",
    "\n",
    "\n",
    "\n",
    "# Volume\n",
    "fig.add_trace(go.Bar(x=forex_2.index, y=forex_2['volume'], marker_color='lime', showlegend=False), row=2, col=1)\n",
    "\n",
    "# 20 period moving average\n",
    "fig.add_trace(go.Scatter(x=forex_2.index, y=forex_2[\"MA20\"], marker_color='tomato',name=\"MA20\"), row=1, col=1)\n",
    "\n",
    "\n",
    "\n",
    "# Candlestick chart\n",
    "fig.add_trace(go.Candlestick(x=forex_2.index, open=forex_2[\"open\"], high=forex_2[\"high\"],\n",
    "                low=forex_2[\"low\"], close=forex_2[\"close\"], name=\"OHLC\"), \n",
    "                row=1, col=1)\n",
    "\n",
    "\n",
    "# Create a Bollinger Band\n",
    "\n",
    "# Upper Bound\n",
    "fig.add_trace(go.Scatter(x=forex_2.index, \n",
    "                         y=forex_2[\"MA20\"] + (forex_2['std'] * 2),\n",
    "                         line_color = 'gray',\n",
    "                         line = {'dash': 'dash'},\n",
    "                         name = 'upper band',\n",
    "                         opacity = 0.5),\n",
    "              row = 1, col = 1)\n",
    "\n",
    "# Lower Bound fill in between with parameter 'fill': 'tonexty'\n",
    "fig.add_trace(go.Scatter(x=forex_2.index, \n",
    "                         y=forex_2[\"MA20\"] - (forex_2['std'] * 2),\n",
    "                         line_color = 'gray',\n",
    "                         line = {'dash': 'dash'},\n",
    "                         fill = 'tonexty',\n",
    "                         name = 'lower band',\n",
    "                         opacity = 0.01),\n",
    "              row = 1, col = 1)\n",
    "\n",
    "\n",
    "fig.update_layout(\n",
    "#    title= f'{forex_pair_2} Historical price chart',\n",
    "    xaxis_tickfont_size=12,\n",
    "    yaxis=dict(\n",
    "        title='Price ($/share)',\n",
    "        titlefont_size=14,\n",
    "        tickfont_size=12,\n",
    "    ),\n",
    "    autosize=True,\n",
    "    width=900,\n",
    "    height=900,\n",
    "    margin=dict(l=50, r=50, b=100, t=100, pad=4),\n",
    "    paper_bgcolor='LightSteelBlue'\n",
    "    \n",
    ")\n",
    "# Remove range slider; (short time frame)\n",
    "fig.update(layout_xaxis_rangeslider_visible=False)\n",
    "\n",
    "fig.show()\n",
    "\n"
   ]
  },
  {
   "cell_type": "code",
   "execution_count": null,
   "id": "99fdd543",
   "metadata": {},
   "outputs": [],
   "source": [
    "# Country Currency 3\n",
    "\n",
    "# Set moving Average and STD\n",
    "forex_3['MA20'] = forex_3['close'].rolling(window=20, min_periods=0).mean()\n",
    "forex_3['std'] = forex_3['close'].rolling(window=20, min_periods=0).std(ddof = 0)\n",
    "\n",
    "# set fig\n",
    "fig = make_subplots(rows=2, cols=1, shared_xaxes=True, \n",
    "               vertical_spacing=0.10, subplot_titles=(forex_pair_3, 'Volume'), \n",
    "               row_width=[0.2, 0.7])\n",
    "\n",
    "\n",
    "\n",
    "# Volume\n",
    "fig.add_trace(go.Bar(x=forex_3.index, y=forex_3['volume'], marker_color='lime', showlegend=False), row=2, col=1)\n",
    "\n",
    "# 20 period moving average\n",
    "fig.add_trace(go.Scatter(x=forex_3.index, y=forex_3[\"MA20\"], marker_color='tomato',name=\"MA20\"), row=1, col=1)\n",
    "\n",
    "\n",
    "\n",
    "# Candlestick chart\n",
    "fig.add_trace(go.Candlestick(x=forex_3.index, open=forex_3[\"open\"], high=forex_3[\"high\"],\n",
    "                low=forex_3[\"low\"], close=forex_3[\"close\"], name=\"OHLC\"), \n",
    "                row=1, col=1)\n",
    "\n",
    "\n",
    "# Create a Bollinger Band\n",
    "\n",
    "# Upper Bound\n",
    "fig.add_trace(go.Scatter(x=forex_3.index, \n",
    "                         y=forex_3[\"MA20\"] + (forex_3['std'] * 2),\n",
    "                         line_color = 'gray',\n",
    "                         line = {'dash': 'dash'},\n",
    "                         name = 'upper band',\n",
    "                         opacity = 0.5),\n",
    "              row = 1, col = 1)\n",
    "\n",
    "# Lower Bound fill in between with parameter 'fill': 'tonexty'\n",
    "fig.add_trace(go.Scatter(x=forex_3.index, \n",
    "                         y=forex_3[\"MA20\"] - (forex_3['std'] * 2),\n",
    "                         line_color = 'gray',\n",
    "                         line = {'dash': 'dash'},\n",
    "                         fill = 'tonexty',\n",
    "                         name = 'lower band',\n",
    "                         opacity = 0.01),\n",
    "              row = 1, col = 1)\n",
    "\n",
    "\n",
    "fig.update_layout(\n",
    "#    title= f'{forex_pair_2} Historical price chart',\n",
    "    xaxis_tickfont_size=12,\n",
    "    yaxis=dict(\n",
    "        title='Price ($/share)',\n",
    "        titlefont_size=14,\n",
    "        tickfont_size=12,\n",
    "    ),\n",
    "    autosize=True,\n",
    "    width=900,\n",
    "    height=900,\n",
    "    margin=dict(l=50, r=50, b=100, t=100, pad=4),\n",
    "    paper_bgcolor='LightSteelBlue'\n",
    "    \n",
    ")\n",
    "# Remove range slider; (short time frame)\n",
    "fig.update(layout_xaxis_rangeslider_visible=False)\n",
    "\n",
    "fig.show()"
   ]
  },
  {
   "cell_type": "markdown",
   "id": "82775e2d",
   "metadata": {},
   "source": [
    "# Foreign Exchange Currency Converter"
   ]
  },
  {
   "cell_type": "code",
   "execution_count": null,
   "id": "4bd7a856",
   "metadata": {},
   "outputs": [],
   "source": [
    "# Only input the amount of currency to be converted. \n",
    " \n",
    "    \n",
    "    # switch ti and  from currency usd is from\n",
    "    # do this for pair 2 and paie 3 \n",
    "\n",
    "amount = int(input(\"Enter the Amount: \"))\n",
    "currency, amount = CurrencyRates(), amount\n",
    "from_currency, to_currency = \"USD\", pair.upper()\n",
    "\n",
    "\n",
    "print(from_currency, \"To\", to_currency, amount)\n",
    "result =  currency.convert(from_currency, to_currency, amount)\n",
    "print(\"Conversion Amount: \", result)"
   ]
  },
  {
   "cell_type": "code",
   "execution_count": null,
   "id": "9257a94a",
   "metadata": {},
   "outputs": [],
   "source": [
    "# Country 2 currency conversion\n",
    "\n",
    "currency, amount = CurrencyRates(), amount\n",
    "from_currency, to_currency = \"USD\", pair_2.upper()\n",
    "\n",
    "\n",
    "print(from_currency, \"To\", to_currency, amount)\n",
    "result =  currency.convert(from_currency, to_currency, amount)\n",
    "print(\"Conversion Amount: \", result)"
   ]
  },
  {
   "cell_type": "code",
   "execution_count": null,
   "id": "7de9e8e6",
   "metadata": {},
   "outputs": [],
   "source": [
    "# country 3 currency conversion\n",
    "\n",
    "currency_3, amount = CurrencyRates(), amount\n",
    "from_currency, to_currency = \"USD\", pair_3.upper()\n",
    "\n",
    "\n",
    "print(from_currency, \"To\", to_currency, amount)\n",
    "result =  currency.convert(from_currency, to_currency, amount)\n",
    "print(\"Conversion Amount: \", result)"
   ]
  },
  {
   "cell_type": "markdown",
   "id": "883d902b",
   "metadata": {},
   "source": [
    "# Monte Carlo Simulation on the returns of the inputed currency"
   ]
  },
  {
   "cell_type": "markdown",
   "id": "344fc8fa",
   "metadata": {},
   "source": [
    "### Plot the Simulated Outcomes for the inputed amount of days\n"
   ]
  },
  {
   "cell_type": "markdown",
   "id": "d2cef3f1",
   "metadata": {},
   "source": [
    "### Plot the Simulated Daily Returns Trajectory for country 1 over the inputed amount of days"
   ]
  },
  {
   "cell_type": "code",
   "execution_count": null,
   "id": "f6839dcd",
   "metadata": {},
   "outputs": [],
   "source": [
    "# Country Currency 1 Monte Carlo "
   ]
  },
  {
   "cell_type": "code",
   "execution_count": null,
   "id": "a3fef0cb",
   "metadata": {},
   "outputs": [],
   "source": [
    "# Country Currency 2 Monte Carlo "
   ]
  },
  {
   "cell_type": "code",
   "execution_count": null,
   "id": "a74dba5d",
   "metadata": {},
   "outputs": [],
   "source": [
    "# Country Currency 3 Monte Carlo "
   ]
  },
  {
   "cell_type": "markdown",
   "id": "214e67dd",
   "metadata": {},
   "source": [
    "# Monte Carlo Sim"
   ]
  },
  {
   "cell_type": "code",
   "execution_count": null,
   "id": "089be81f",
   "metadata": {},
   "outputs": [],
   "source": [
    "# time_series = pdr.av.time_series.AVTimeSeriesReader(f'{forex_pair}', api_key='alpha_vantage_api_key')\n",
    "# forex = time_series.read()\n",
    "# forex.index = pd.to_datetime(forex.index, format='%Y-%m-%d')\n",
    "# ticker_data = pd.concat([forex], axis=1, keys=[f'{forex_pair}'])"
   ]
  },
  {
   "cell_type": "code",
   "execution_count": null,
   "id": "d0c8b217",
   "metadata": {},
   "outputs": [],
   "source": [
    "ticker_data = pd.concat([forex], axis=1, keys=[f'{forex_pair}'])\n",
    "ticker_data2 =pd.concat([forex], axis=1, keys=[f'{forex_pair_2}'])\n",
    "ticker_data3 =pd.concat([forex], axis=1, keys=[f'{forex_pair_3}'])\n",
    "\n",
    "def get_MonteCarlo(data):\n",
    "    \n",
    "    return \n",
    "\n",
    "pd.options.plotting.backend = 'matplotlib'"
   ]
  },
  {
   "cell_type": "code",
   "execution_count": null,
   "id": "bb339719",
   "metadata": {},
   "outputs": [],
   "source": [
    "# Configure a Monte Carlo simulation to forecast one year daily returns\n",
    "\n",
    "forex_montecarlo_90 = MCSimulation(\n",
    "    portfolio_data = ticker_data,\n",
    "    num_simulation = 50,\n",
    "    num_trading_days = 90,\n",
    ")\n",
    "# forex_montecarlo_90.portfolio_data.head()\n",
    "\n",
    "forex_montecarlo_90.calc_cumulative_return()\n",
    "forex_montecarlo_90_line_plot = forex_montecarlo_90.plot_simulation()\n",
    "forex_montecarlo_90_dist_plot = forex_montecarlo_90.plot_distribution()\n",
    "forex_montecarlo_90_summary = forex_montecarlo_90.summarize_cumulative_return()"
   ]
  },
  {
   "cell_type": "code",
   "execution_count": null,
   "id": "f8b38483",
   "metadata": {},
   "outputs": [],
   "source": [
    "forex_montecarlo_180 = MCSimulation(\n",
    "    portfolio_data = ticker_data,\n",
    "    num_simulation = 50,\n",
    "    num_trading_days = 180,\n",
    ")\n",
    "\n",
    "# # forex_montecarlo_180.portfolio_data.head()\n",
    "\n",
    "forex_montecarlo_180.calc_cumulative_return()\n",
    "forex_montecarlo_180_line_plot = forex_montecarlo_180.plot_simulation()\n",
    "forex_montecarlo_180_dist_plot = forex_montecarlo_180.plot_distribution()\n",
    "forex_montecarlo_180_summary = forex_montecarlo_180.summarize_cumulative_return()"
   ]
  },
  {
   "cell_type": "code",
   "execution_count": null,
   "id": "3a611c28",
   "metadata": {},
   "outputs": [],
   "source": [
    "forex_montecarlo_360 = MCSimulation(\n",
    "    portfolio_data = ticker_data,\n",
    "    num_simulation = 50,\n",
    "    num_trading_days = 360,\n",
    ")\n",
    "\n",
    "forex_montecarlo_360.calc_cumulative_return()\n",
    "forex_montecarlo_360_line_plot = forex_montecarlo_360.plot_simulation()\n",
    "forex_montecarlo_360_dist_plot = forex_montecarlo_360.plot_distribution()\n",
    "forex_montecarlo_360_summary = forex_montecarlo_360.summarize_cumulative_return()\n",
    "# # forex_montecarlo_360.portfolio_data.head()"
   ]
  },
  {
   "cell_type": "code",
   "execution_count": 2,
   "id": "b2d92e14",
   "metadata": {},
   "outputs": [
    {
     "ename": "NameError",
     "evalue": "name 'forex_montecarlo_90_line_plot' is not defined",
     "output_type": "error",
     "traceback": [
      "\u001b[1;31m---------------------------------------------------------------------------\u001b[0m",
      "\u001b[1;31mNameError\u001b[0m                                 Traceback (most recent call last)",
      "\u001b[1;32m~\\AppData\\Local\\Temp/ipykernel_8628/444380243.py\u001b[0m in \u001b[0;36m<module>\u001b[1;34m\u001b[0m\n\u001b[1;32m----> 1\u001b[1;33m \u001b[0mforex_montecarlo_90_line_plot\u001b[0m\u001b[1;33m.\u001b[0m\u001b[0mshow\u001b[0m\u001b[1;33m(\u001b[0m\u001b[1;33m)\u001b[0m\u001b[1;33m\u001b[0m\u001b[1;33m\u001b[0m\u001b[0m\n\u001b[0m",
      "\u001b[1;31mNameError\u001b[0m: name 'forex_montecarlo_90_line_plot' is not defined"
     ]
    }
   ],
   "source": [
    "forex_montecarlo_90_line_plot.show()"
   ]
  },
  {
   "cell_type": "code",
   "execution_count": null,
   "id": "373d3d53",
   "metadata": {},
   "outputs": [],
   "source": [
    "# simulated_returns_data = {\n",
    "#     \"mean\": list(forex_montecarlo.simulated_return.mean(axis=1)),\n",
    "#     \"median\": list(forex_montecarlo.simulated_return.median(axis=1)),\n",
    "#     \"min\": list(forex_montecarlo.simulated_return.min(axis=1)),\n",
    "#     \"max\": list(forex_montecarlo.simulated_return.max(axis=1))\n",
    "# }\n",
    "# df_simulated_returns = pd.DataFrame(simulated_returns_data)\n",
    "# initial_investment = amount\n",
    "# cumulative_pnl = initial_investment * df_simulated_returns\n",
    "# tbl = forex_montecarlo.summarize_cumulative_return()\n",
    "# ci_lower = round(tbl[8]*amount,2)\n",
    "# ci_upper = round(tbl[9]*amount,2)\n",
    "\n",
    "# Run Monte Carlo simulations to forecast one year daily returns\n",
    "forex_montecarlo.calc_cumulative_return()"
   ]
  },
  {
   "cell_type": "markdown",
   "id": "a4a94364",
   "metadata": {},
   "source": [
    "### Plot the Simulated Outcomes for the inputed amount of time"
   ]
  },
  {
   "cell_type": "code",
   "execution_count": null,
   "id": "d371aff2",
   "metadata": {},
   "outputs": [],
   "source": [
    "pd.options.plotting.backend = 'matplotlib'"
   ]
  },
  {
   "cell_type": "code",
   "execution_count": null,
   "id": "f50d599d",
   "metadata": {},
   "outputs": [],
   "source": [
    "# Plot simulation outcomes\n",
    "line_plot = forex_montecarlo.plot_simulation()"
   ]
  },
  {
   "cell_type": "markdown",
   "id": "ac0a7935",
   "metadata": {},
   "source": [
    "### Plot the Simulated Daily Returns Trajectory for AAPL over the Next Year (252 Trading Days)"
   ]
  },
  {
   "cell_type": "code",
   "execution_count": null,
   "id": "fbfbfc6f",
   "metadata": {},
   "outputs": [],
   "source": [
    "# Compute summary statistics from the simulated daily returns\n",
    "simulated_returns_data = {\n",
    "    \"mean\": list(forex_montecarlo.simulated_return.mean(axis=1)),\n",
    "    \"median\": list(forex_montecarlo.simulated_return.median(axis=1)),\n",
    "    \"min\": list(forex_montecarlo.simulated_return.min(axis=1)),\n",
    "    \"max\": list(forex_montecarlo.simulated_return.max(axis=1))\n",
    "}\n",
    "\n",
    "# Create a DataFrame with the summary statistics\n",
    "df_simulated_returns = pd.DataFrame(simulated_returns_data)\n",
    "\n",
    "# Display sample data\n",
    "df_simulated_returns.head()"
   ]
  },
  {
   "cell_type": "code",
   "execution_count": null,
   "id": "4b2e581d",
   "metadata": {},
   "outputs": [],
   "source": [
    "# Use the `plot` function to visually analyze the trajectory of first countries currency returns on a 252 trading day simulation\n",
    "df_simulated_returns.plot(title=f\"Simulated Daily Returns Behavior of {forex_pair} Stock Over the Next Year\")"
   ]
  },
  {
   "cell_type": "markdown",
   "id": "fafccbd1",
   "metadata": {},
   "source": [
    "### Calculate the Simulated Profits/Losses of inputted amount in first countries currency over the Next imputted amount of Trading Days"
   ]
  },
  {
   "cell_type": "code",
   "execution_count": null,
   "id": "03de9470",
   "metadata": {},
   "outputs": [],
   "source": [
    "# Set initial investment\n",
    "initial_investment = amount\n",
    "\n",
    "# Multiply an initial investment by the daily returns of simulative stock prices to return the progression of daily returns in terms of money\n",
    "cumulative_pnl = initial_investment * df_simulated_returns\n",
    "\n",
    "# Display sample dat\n",
    "cumulative_pnl.head()"
   ]
  },
  {
   "cell_type": "markdown",
   "id": "76187eac",
   "metadata": {},
   "source": [
    "### Plot the Simulated Profits/Losses of inputted amount in first countries currency Over the Next inputted amount of Trading Days"
   ]
  },
  {
   "cell_type": "code",
   "execution_count": null,
   "id": "5b004b8d",
   "metadata": {},
   "outputs": [],
   "source": [
    "# Use the 'plot' function to create a chart of the simulated profits/losses\n",
    "cumulative_pnl.plot(title=f\"Simulated Outcomes Behavior of {forex_pair} Stock Over the Next Year\")"
   ]
  },
  {
   "cell_type": "markdown",
   "id": "f97301a1",
   "metadata": {},
   "source": [
    "### Calculate the range of the possible outcomes of our inputted amount in first countries currency"
   ]
  },
  {
   "cell_type": "code",
   "execution_count": null,
   "id": "4dd503b8",
   "metadata": {},
   "outputs": [],
   "source": [
    "# Fetch summary statistics from the Monte Carlo simulation results\n",
    "tbl = forex_montecarlo.summarize_cumulative_return()\n",
    "\n",
    "# Print summary statistics\n",
    "print(tbl)"
   ]
  },
  {
   "cell_type": "code",
   "execution_count": null,
   "id": "3866d061",
   "metadata": {},
   "outputs": [],
   "source": [
    "# Use the lower and upper `95%` confidence intervals to calculate the range of the possible outcomes of our inputted amount in first countries currency\n",
    "ci_lower = round(tbl[8]*amount,2)\n",
    "ci_upper = round(tbl[9]*amount,2)\n",
    "\n",
    "# Print results\n",
    "print(f\"There is a 95% chance that an initial investment of ${amount} in the portfolio\"\n",
    "      f\" over the next year will end within in the range of\"\n",
    "      f\" ${ci_lower} and ${ci_upper}.\")"
   ]
  },
  {
   "cell_type": "markdown",
   "id": "410d6e01",
   "metadata": {},
   "source": [
    "# Map "
   ]
  },
  {
   "cell_type": "code",
   "execution_count": null,
   "id": "5bb9a3aa",
   "metadata": {},
   "outputs": [],
   "source": [
    "# Read in data\n",
    "airports = pd.read_csv(\n",
    "    Path(\"airports.csv\")\n",
    ").dropna()\n",
    "airports"
   ]
  },
  {
   "cell_type": "code",
   "execution_count": null,
   "id": "065efae7",
   "metadata": {},
   "outputs": [],
   "source": [
    "name = airports['Name'].astype('string')\n",
    "city = airports[' City'].astype('string')\n",
    "country = airports[' Country'].astype('string')\n",
    "latitude = airports[' Latitude'].astype('float')\n",
    "longitude = airports[' Longitude'].astype('float')\n",
    "\n",
    "#airports_df = pd.DataFrame(columns=['Name', 'City', 'Country', 'Latitude', 'Longitude'])\n",
    "#airports_df\n",
    "\n",
    "airports_df = pd.DataFrame(columns=airports[' City'].unique().astype('str')).transpose()\n",
    "#airports_df = pd.DataFrame(columns=['City'])\n",
    "airports_df\n",
    "\n",
    "# airports_df = pd.DataFrame(columns=[airports['Name'].astype('string'), airports[' City'].astype('string'), airports[' Country'].astype('string'), airports[' Latitude'].astype('float'), airports[' Longitude'].astype('float')])\n",
    "# airports_df = airports_df.transpose()\n",
    "# airports_df\n",
    "\n",
    "# cities = airports[' City'].unique()\n",
    "# cities\n",
    "\n",
    "#.drop(columns=[' IATA', ' ICAO', ' Altitude', ' Timezone', ' DST', ' Type', ' Source'], inplace=True) \n",
    "\n",
    "cities = airports.astype('string').reset_index().groupby(' Name', ' City', ' Country', ' Latitude', ' Longitude')\n",
    "cities"
   ]
  },
  {
   "cell_type": "code",
   "execution_count": null,
   "id": "9b0e0c72",
   "metadata": {},
   "outputs": [],
   "source": [
    "# # Slice and plot data by name\n",
    "# map_1 = px.scatter_mapbox(\n",
    "#     airports,\n",
    "#     lat=' Latitude',\n",
    "#     lon=' Longitude',\n",
    "#     color=\"Name\"\n",
    "# )\n",
    "# map_1.show()"
   ]
  },
  {
   "cell_type": "code",
   "execution_count": null,
   "id": "fd8a7812",
   "metadata": {},
   "outputs": [],
   "source": []
  },
  {
   "cell_type": "markdown",
   "id": "47854d0a",
   "metadata": {},
   "source": [
    "# Monte Carlo Function\n",
    "\n",
    "Needs work. need to fix the plotting"
   ]
  },
  {
   "cell_type": "markdown",
   "id": "a579a5cc",
   "metadata": {},
   "source": [
    "## Variables"
   ]
  },
  {
   "cell_type": "code",
   "execution_count": null,
   "id": "efd6d400",
   "metadata": {},
   "outputs": [],
   "source": [
    "# time_series = pdr.av.time_series.AVTimeSeriesReader(f'{forex_pair}', api_key='alpha_vantage_api_key')\n",
    "# forex = time_series.read()\n",
    "# forex.index = pd.to_datetime(forex.index, format='%Y-%m-%d')\n",
    "# ticker_data = pd.concat([forex], axis=1, keys=[f'{forex_pair}'])\n",
    "# forex_montecarlo=MC_Simulation(12)\n",
    "# simulated_returns_data = {\n",
    "#     \"mean\": list(forex_montecarlo.simulated_return.mean(axis=1)),\n",
    "#     \"median\": list(forex_montecarlo.simulated_return.median(axis=1)),\n",
    "#     \"min\": list(forex_montecarlo.simulated_return.min(axis=1)),\n",
    "#     \"max\": list(forex_montecarlo.simulated_return.max(axis=1))\n",
    "# }\n",
    "# df_simulated_returns = pd.DataFrame(simulated_returns_data)\n",
    "# initial_investment = amount\n",
    "# cumulative_pnl = initial_investment * df_simulated_returns\n",
    "# tbl = forex_montecarlo.summarize_cumulative_return()\n",
    "# ci_lower = round(tbl[8]*amount,2)\n",
    "# ci_upper = round(tbl[9]*amount,2)"
   ]
  },
  {
   "cell_type": "markdown",
   "id": "d8b8f714",
   "metadata": {},
   "source": [
    "## Function"
   ]
  },
  {
   "cell_type": "code",
   "execution_count": null,
   "id": "82853be7",
   "metadata": {},
   "outputs": [],
   "source": [
    "# # Configuring a Monte Carlo simulation to forecast x years cumulative returns\n",
    "# def MC_Simulation(number_of_months):\n",
    "#     forex_montecarlo = MCSimulation(\n",
    "#     portfolio_data = ticker_data,\n",
    "#     num_simulation = 50,\n",
    "#     num_trading_days = 30 * number_of_months\n",
    "# )\n",
    "# # Run Monte Carlo simulations to forecast one year daily returns\n",
    "#     forex_montecarlo.calc_cumulative_return()\n",
    "# # Plot simulation outcomes\n",
    "#     pd.options.plotting.backend = 'matplotlib'\n",
    "#     forex_montecarlo.plot_simulation()\n",
    "# # Use the `plot` function to visually analyze the trajectory of first countries currency returns on a 252 trading day simulation\n",
    "#     df_simulated_returns.plot(title=f\"Simulated Daily Returns Behavior of {forex_pair} Stock Over the Next Year\")\n",
    "# # Use the 'plot' function to create a chart of the simulated profits/losses\n",
    "#     cumulative_pnl.plot(title=f\"Simulated Outcomes Behavior of {forex_pair} Stock Over the Next Year\")\n",
    "# # Print results\n",
    "#     print(f\"There is a 95% chance that an initial investment of ${amount} in the portfolio\"\n",
    "#       f\" over the next year will end within in the range of\"\n",
    "#       f\" ${ci_lower} and ${ci_upper}.\")\n",
    "#     print()\n",
    "#     return (forex_montecarlo)\n"
   ]
  },
  {
   "cell_type": "code",
   "execution_count": null,
   "id": "64e3fadc",
   "metadata": {},
   "outputs": [],
   "source": [
    "# test = MC_Simulation(12)"
   ]
  },
  {
   "cell_type": "code",
   "execution_count": null,
   "id": "97d570a2",
   "metadata": {},
   "outputs": [],
   "source": []
  }
 ],
 "metadata": {
  "kernelspec": {
   "display_name": "Python [conda env:pyvizenv-pyviz2]",
   "language": "python",
   "name": "conda-env-pyvizenv-pyviz2-py"
  },
  "language_info": {
   "codemirror_mode": {
    "name": "ipython",
    "version": 3
   },
   "file_extension": ".py",
   "mimetype": "text/x-python",
   "name": "python",
   "nbconvert_exporter": "python",
   "pygments_lexer": "ipython3",
   "version": "3.7.11"
  }
 },
 "nbformat": 4,
 "nbformat_minor": 5
}
